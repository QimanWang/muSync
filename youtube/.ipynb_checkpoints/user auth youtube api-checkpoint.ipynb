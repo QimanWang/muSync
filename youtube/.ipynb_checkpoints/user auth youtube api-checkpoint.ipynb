{
 "cells": [
  {
   "cell_type": "code",
   "execution_count": 4,
   "metadata": {
    "scrolled": true
   },
   "outputs": [
    {
     "name": "stdout",
     "output_type": "stream",
     "text": [
      "Please visit this URL to authorize this application: https://accounts.google.com/o/oauth2/auth?response_type=code&client_id=93523413584-548o4150r16vuh2a3etsbm7ea10v3mj7.apps.googleusercontent.com&redirect_uri=urn%3Aietf%3Awg%3Aoauth%3A2.0%3Aoob&scope=https%3A%2F%2Fwww.googleapis.com%2Fauth%2Fyoutube.force-ssl&state=ePe5ed1c2OG2n81STphSP8oCCPNo5e&prompt=consent&access_type=offline\n",
      "Enter the authorization code: 4/BQEzRx4wMv2esrSEhvITznAIWO5HXBI19Fx72Nvsu7DVicCyRqGUGZ0\n"
     ]
    }
   ],
   "source": [
    "\n",
    "# -*- coding: utf-8 -*-\n",
    "\n",
    "import os\n",
    "\n",
    "import google.oauth2.credentials\n",
    "\n",
    "import google_auth_oauthlib.flow\n",
    "from googleapiclient.discovery import build\n",
    "from googleapiclient.errors import HttpError\n",
    "from google_auth_oauthlib.flow import InstalledAppFlow\n",
    "\n",
    "# The CLIENT_SECRETS_FILE variable specifies the name of a file that contains\n",
    "# the OAuth 2.0 information for this application, including its client_id and\n",
    "# client_secret.\n",
    "CLIENT_SECRETS_FILE = \"src_client_secret.json\"\n",
    "\n",
    "# This OAuth 2.0 access scope allows for full read/write access to the\n",
    "# authenticated user's account and requires requests to use an SSL connection.\n",
    "SCOPES = ['https://www.googleapis.com/auth/youtube.force-ssl']\n",
    "API_SERVICE_NAME = 'youtube'\n",
    "API_VERSION = 'v3'\n",
    "\n",
    "def get_authenticated_service():\n",
    "  flow = InstalledAppFlow.from_client_secrets_file(CLIENT_SECRETS_FILE, SCOPES)\n",
    "  credentials = flow.run_console()\n",
    "  return build(API_SERVICE_NAME, API_VERSION, credentials = credentials)\n",
    "\n",
    "# Build a resource based on a list of properties given as key-value pairs.\n",
    "# Leave properties with empty values out of the inserted resource.\n",
    "def build_resource(properties):\n",
    "  resource = {}\n",
    "  for p in properties:\n",
    "    # Given a key like \"snippet.title\", split into \"snippet\" and \"title\", where\n",
    "    # \"snippet\" will be an object and \"title\" will be a property in that object.\n",
    "    prop_array = p.split('.')\n",
    "    ref = resource\n",
    "    for pa in range(0, len(prop_array)):\n",
    "      is_array = False\n",
    "      key = prop_array[pa]\n",
    "\n",
    "      # For properties that have array values, convert a name like\n",
    "      # \"snippet.tags[]\" to snippet.tags, and set a flag to handle\n",
    "      # the value as an array.\n",
    "      if key[-2:] == '[]':\n",
    "        key = key[0:len(key)-2:]\n",
    "        is_array = True\n",
    "\n",
    "      if pa == (len(prop_array) - 1):\n",
    "        # Leave properties without values out of inserted resource.\n",
    "        if properties[p]:\n",
    "          if is_array:\n",
    "            ref[key] = properties[p].split(',')\n",
    "          else:\n",
    "            ref[key] = properties[p]\n",
    "      elif key not in ref:\n",
    "        # For example, the property is \"snippet.title\", but the resource does\n",
    "        # not yet have a \"snippet\" object. Create the snippet object here.\n",
    "        # Setting \"ref = ref[key]\" means that in the next time through the\n",
    "        # \"for pa in range ...\" loop, we will be setting a property in the\n",
    "        # resource's \"snippet\" object.\n",
    "        ref[key] = {}\n",
    "        ref = ref[key]\n",
    "      else:\n",
    "        # For example, the property is \"snippet.description\", and the resource\n",
    "        # already has a \"snippet\" object.\n",
    "        ref = ref[key]\n",
    "  return resource\n",
    "\n",
    "# Remove keyword arguments that are not set\n",
    "def remove_empty_kwargs(**kwargs):\n",
    "  good_kwargs = {}\n",
    "  if kwargs is not None:\n",
    "    for key, value in kwargs.items():\n",
    "      if value:\n",
    "        good_kwargs[key] = value\n",
    "  return good_kwargs\n",
    "\n",
    "def videos_list_my_rated_videos(client, **kwargs):\n",
    "  # See full sample for function\n",
    "  kwargs = remove_empty_kwargs(**kwargs)\n",
    "\n",
    "  response = client.videos().list(\n",
    "    **kwargs\n",
    "  ).execute()\n",
    "\n",
    "  return response\n",
    "\n",
    "\n",
    "if __name__ == '__main__':\n",
    "  # When running locally, disable OAuthlib's HTTPs verification. When\n",
    "  # running in production *do not* leave this option enabled.\n",
    "  os.environ['OAUTHLIB_INSECURE_TRANSPORT'] = '1'\n",
    "  client = get_authenticated_service()\n",
    "    "
   ]
  },
  {
   "cell_type": "code",
   "execution_count": 5,
   "metadata": {},
   "outputs": [],
   "source": [
    "r = videos_list_my_rated_videos(client,\n",
    "part='snippet,contentDetails,statistics',\n",
    "myRating='like')\n",
    "  "
   ]
  },
  {
   "cell_type": "code",
   "execution_count": 6,
   "metadata": {},
   "outputs": [
    {
     "data": {
      "text/plain": [
       "{'totalResults': 752, 'resultsPerPage': 5}"
      ]
     },
     "execution_count": 6,
     "metadata": {},
     "output_type": "execute_result"
    }
   ],
   "source": [
    "r['pageInfo']\n"
   ]
  },
  {
   "cell_type": "markdown",
   "metadata": {},
   "source": [
    "### let's extract all the liked videos, store in a df and explore!"
   ]
  },
  {
   "cell_type": "code",
   "execution_count": 7,
   "metadata": {},
   "outputs": [
    {
     "data": {
      "text/html": [
       "<div>\n",
       "<style scoped>\n",
       "    .dataframe tbody tr th:only-of-type {\n",
       "        vertical-align: middle;\n",
       "    }\n",
       "\n",
       "    .dataframe tbody tr th {\n",
       "        vertical-align: top;\n",
       "    }\n",
       "\n",
       "    .dataframe thead th {\n",
       "        text-align: right;\n",
       "    }\n",
       "</style>\n",
       "<table border=\"1\" class=\"dataframe\">\n",
       "  <thead>\n",
       "    <tr style=\"text-align: right;\">\n",
       "      <th></th>\n",
       "      <th>id</th>\n",
       "      <th>title</th>\n",
       "      <th>publishedAt</th>\n",
       "      <th>categoryId</th>\n",
       "      <th>viewCount</th>\n",
       "      <th>likeCount</th>\n",
       "      <th>dislikeCount</th>\n",
       "    </tr>\n",
       "  </thead>\n",
       "  <tbody>\n",
       "  </tbody>\n",
       "</table>\n",
       "</div>"
      ],
      "text/plain": [
       "Empty DataFrame\n",
       "Columns: [id, title, publishedAt, categoryId, viewCount, likeCount, dislikeCount]\n",
       "Index: []"
      ]
     },
     "execution_count": 7,
     "metadata": {},
     "output_type": "execute_result"
    }
   ],
   "source": [
    "import pandas as pd\n",
    "columns=['id','title','publishedAt','categoryId','viewCount','likeCount','dislikeCount']\n",
    "df = pd.DataFrame(columns=columns)\n",
    "# df.loc[len(df)] = [2, 4, 5,6]\n",
    "# df.loc[len(df)] = [2, 4, 5,7]\n",
    "# df.loc[len(df)] = [2, 4, 5,6]\n",
    "\n",
    "df"
   ]
  },
  {
   "cell_type": "code",
   "execution_count": 8,
   "metadata": {},
   "outputs": [
    {
     "name": "stdout",
     "output_type": "stream",
     "text": [
      "10\n",
      "20\n",
      "30\n",
      "40\n",
      "50\n",
      "60\n",
      "70\n",
      "80\n",
      "90\n",
      "100\n",
      "110\n",
      "120\n",
      "130\n",
      "140\n",
      "150\n"
     ]
    }
   ],
   "source": [
    "r = videos_list_my_rated_videos(client,\n",
    "    part='snippet,contentDetails,statistics',\n",
    "    myRating='like')\n",
    "\n",
    "i = 0\n",
    "# nextpageToken gets pointer to next page\n",
    "while 'nextPageToken' in r.keys() and r['nextPageToken']!=\"\" :\n",
    "    i = i+1\n",
    "    if i%10==0:\n",
    "        print(i)\n",
    "    \n",
    "    r = videos_list_my_rated_videos(client,\n",
    "    part='snippet,contentDetails,statistics',\n",
    "    pageToken=r['nextPageToken'], \n",
    "    myRating='like')\n",
    "    \n",
    "    for item in r['items']:\n",
    "        try:\n",
    "            df.loc[len(df)] = [\n",
    "                item['id'],\n",
    "                item['snippet']['title'],\n",
    "                item['snippet']['publishedAt'][:10],\n",
    "                item['snippet']['categoryId'],\n",
    "                item['statistics']['viewCount'],\n",
    "                item['statistics']['likeCount'],\n",
    "                item['statistics']['dislikeCount']\n",
    "            ]\n",
    "        except Exception:\n",
    "            df.loc[len(df)] = [\n",
    "                item['id'],\n",
    "                item['snippet']['title'],\n",
    "                item['snippet']['publishedAt'][:10],\n",
    "                item['snippet']['categoryId'],\n",
    "                item['statistics']['viewCount'],\n",
    "                0,\n",
    "                0\n",
    "            ]"
   ]
  },
  {
   "cell_type": "code",
   "execution_count": 15,
   "metadata": {},
   "outputs": [
    {
     "data": {
      "text/html": [
       "<div>\n",
       "<style scoped>\n",
       "    .dataframe tbody tr th:only-of-type {\n",
       "        vertical-align: middle;\n",
       "    }\n",
       "\n",
       "    .dataframe tbody tr th {\n",
       "        vertical-align: top;\n",
       "    }\n",
       "\n",
       "    .dataframe thead th {\n",
       "        text-align: right;\n",
       "    }\n",
       "</style>\n",
       "<table border=\"1\" class=\"dataframe\">\n",
       "  <thead>\n",
       "    <tr style=\"text-align: right;\">\n",
       "      <th></th>\n",
       "      <th>id</th>\n",
       "      <th>title</th>\n",
       "      <th>publishedAt</th>\n",
       "      <th>categoryId</th>\n",
       "      <th>viewCount</th>\n",
       "      <th>likeCount</th>\n",
       "      <th>dislikeCount</th>\n",
       "    </tr>\n",
       "  </thead>\n",
       "  <tbody>\n",
       "    <tr>\n",
       "      <th>count</th>\n",
       "      <td>690</td>\n",
       "      <td>690</td>\n",
       "      <td>690</td>\n",
       "      <td>690</td>\n",
       "      <td>690</td>\n",
       "      <td>690</td>\n",
       "      <td>690</td>\n",
       "    </tr>\n",
       "    <tr>\n",
       "      <th>unique</th>\n",
       "      <td>690</td>\n",
       "      <td>688</td>\n",
       "      <td>542</td>\n",
       "      <td>15</td>\n",
       "      <td>690</td>\n",
       "      <td>676</td>\n",
       "      <td>482</td>\n",
       "    </tr>\n",
       "    <tr>\n",
       "      <th>top</th>\n",
       "      <td>Eww37rpEyfs</td>\n",
       "      <td>White Iverson</td>\n",
       "      <td>2018-04-27</td>\n",
       "      <td>10</td>\n",
       "      <td>49785626</td>\n",
       "      <td>55</td>\n",
       "      <td>5</td>\n",
       "    </tr>\n",
       "    <tr>\n",
       "      <th>freq</th>\n",
       "      <td>1</td>\n",
       "      <td>2</td>\n",
       "      <td>6</td>\n",
       "      <td>371</td>\n",
       "      <td>1</td>\n",
       "      <td>3</td>\n",
       "      <td>9</td>\n",
       "    </tr>\n",
       "  </tbody>\n",
       "</table>\n",
       "</div>"
      ],
      "text/plain": [
       "                 id          title publishedAt categoryId viewCount likeCount  \\\n",
       "count           690            690         690        690       690       690   \n",
       "unique          690            688         542         15       690       676   \n",
       "top     Eww37rpEyfs  White Iverson  2018-04-27         10  49785626        55   \n",
       "freq              1              2           6        371         1         3   \n",
       "\n",
       "       dislikeCount  \n",
       "count           690  \n",
       "unique          482  \n",
       "top               5  \n",
       "freq              9  "
      ]
     },
     "execution_count": 15,
     "metadata": {},
     "output_type": "execute_result"
    }
   ],
   "source": [
    "df.describe()\n",
    "# interesting, we have about 371 songs (category 10), let's extarct them out and save it to the other channel"
   ]
  },
  {
   "cell_type": "code",
   "execution_count": 14,
   "metadata": {},
   "outputs": [
    {
     "name": "stdout",
     "output_type": "stream",
     "text": [
      "<class 'pandas.core.frame.DataFrame'>\n",
      "Int64Index: 690 entries, 0 to 689\n",
      "Data columns (total 7 columns):\n",
      "id              690 non-null object\n",
      "title           690 non-null object\n",
      "publishedAt     690 non-null object\n",
      "categoryId      690 non-null object\n",
      "viewCount       690 non-null object\n",
      "likeCount       690 non-null object\n",
      "dislikeCount    690 non-null object\n",
      "dtypes: object(7)\n",
      "memory usage: 43.1+ KB\n"
     ]
    }
   ],
   "source": [
    "df.info()"
   ]
  },
  {
   "cell_type": "code",
   "execution_count": 17,
   "metadata": {},
   "outputs": [
    {
     "data": {
      "text/html": [
       "<div>\n",
       "<style scoped>\n",
       "    .dataframe tbody tr th:only-of-type {\n",
       "        vertical-align: middle;\n",
       "    }\n",
       "\n",
       "    .dataframe tbody tr th {\n",
       "        vertical-align: top;\n",
       "    }\n",
       "\n",
       "    .dataframe thead th {\n",
       "        text-align: right;\n",
       "    }\n",
       "</style>\n",
       "<table border=\"1\" class=\"dataframe\">\n",
       "  <thead>\n",
       "    <tr style=\"text-align: right;\">\n",
       "      <th></th>\n",
       "      <th>id</th>\n",
       "      <th>title</th>\n",
       "      <th>publishedAt</th>\n",
       "      <th>categoryId</th>\n",
       "      <th>viewCount</th>\n",
       "      <th>likeCount</th>\n",
       "      <th>dislikeCount</th>\n",
       "    </tr>\n",
       "  </thead>\n",
       "  <tbody>\n",
       "    <tr>\n",
       "      <th>0</th>\n",
       "      <td>s9WQbnaMR0c</td>\n",
       "      <td>習譜予 - 等下一個他「 官方MV版 」♪Karendaidai♪</td>\n",
       "      <td>2018-05-08</td>\n",
       "      <td>10</td>\n",
       "      <td>30336</td>\n",
       "      <td>500</td>\n",
       "      <td>13</td>\n",
       "    </tr>\n",
       "    <tr>\n",
       "      <th>1</th>\n",
       "      <td>hyqEI9N-ya0</td>\n",
       "      <td>馮提莫 waiting him《等下一個他》</td>\n",
       "      <td>2019-01-03</td>\n",
       "      <td>22</td>\n",
       "      <td>2475</td>\n",
       "      <td>49</td>\n",
       "      <td>4</td>\n",
       "    </tr>\n",
       "    <tr>\n",
       "      <th>2</th>\n",
       "      <td>KGrulNiJ6Uc</td>\n",
       "      <td>Kimberley陳芳語《愛你AINI》Official MV(HD)</td>\n",
       "      <td>2012-04-23</td>\n",
       "      <td>10</td>\n",
       "      <td>97566381</td>\n",
       "      <td>236914</td>\n",
       "      <td>7322</td>\n",
       "    </tr>\n",
       "    <tr>\n",
       "      <th>3</th>\n",
       "      <td>Oayma-ggbUk</td>\n",
       "      <td>宇多田ヒカル - 「First Love」ジャケット写真撮影風景(1998年）</td>\n",
       "      <td>2015-02-07</td>\n",
       "      <td>10</td>\n",
       "      <td>270780</td>\n",
       "      <td>1246</td>\n",
       "      <td>91</td>\n",
       "    </tr>\n",
       "    <tr>\n",
       "      <th>4</th>\n",
       "      <td>AnjSjJOEfSc</td>\n",
       "      <td>Japan’s Master Inventor Has Over 3,500 Patents</td>\n",
       "      <td>2019-03-01</td>\n",
       "      <td>22</td>\n",
       "      <td>988508</td>\n",
       "      <td>33449</td>\n",
       "      <td>620</td>\n",
       "    </tr>\n",
       "  </tbody>\n",
       "</table>\n",
       "</div>"
      ],
      "text/plain": [
       "            id                                           title publishedAt  \\\n",
       "0  s9WQbnaMR0c               習譜予 - 等下一個他「 官方MV版 」♪Karendaidai♪  2018-05-08   \n",
       "1  hyqEI9N-ya0                          馮提莫 waiting him《等下一個他》  2019-01-03   \n",
       "2  KGrulNiJ6Uc             Kimberley陳芳語《愛你AINI》Official MV(HD)  2012-04-23   \n",
       "3  Oayma-ggbUk         宇多田ヒカル - 「First Love」ジャケット写真撮影風景(1998年）  2015-02-07   \n",
       "4  AnjSjJOEfSc  Japan’s Master Inventor Has Over 3,500 Patents  2019-03-01   \n",
       "\n",
       "  categoryId viewCount likeCount dislikeCount  \n",
       "0         10     30336       500           13  \n",
       "1         22      2475        49            4  \n",
       "2         10  97566381    236914         7322  \n",
       "3         10    270780      1246           91  \n",
       "4         22    988508     33449          620  "
      ]
     },
     "execution_count": 17,
     "metadata": {},
     "output_type": "execute_result"
    }
   ],
   "source": [
    "df.head()"
   ]
  },
  {
   "cell_type": "code",
   "execution_count": 28,
   "metadata": {},
   "outputs": [],
   "source": [
    "music_df = df.loc[df['categoryId'] == '10']"
   ]
  },
  {
   "cell_type": "code",
   "execution_count": 30,
   "metadata": {},
   "outputs": [],
   "source": [
    "music_df.to_csv('liked_videos.csv', sep=',', encoding='utf-8',index=False)"
   ]
  },
  {
   "cell_type": "markdown",
   "metadata": {},
   "source": [
    "# let's explore the video categories\n"
   ]
  },
  {
   "cell_type": "code",
   "execution_count": 50,
   "metadata": {},
   "outputs": [],
   "source": [
    "def video_categories_list(client, **kwargs):\n",
    "  # See full sample for function\n",
    "  kwargs = remove_empty_kwargs(**kwargs)\n",
    "\n",
    "  response = client.videoCategories().list(\n",
    "    **kwargs\n",
    "  ).execute()\n",
    "\n",
    "  return response"
   ]
  },
  {
   "cell_type": "code",
   "execution_count": 52,
   "metadata": {},
   "outputs": [],
   "source": [
    "vid_cat_repsonse= video_categories_list(client,\n",
    "    part='snippet',\n",
    "    regionCode='US')"
   ]
  },
  {
   "cell_type": "code",
   "execution_count": 60,
   "metadata": {},
   "outputs": [
    {
     "data": {
      "text/plain": [
       "{'1': 'Film & Animation',\n",
       " '2': 'Autos & Vehicles',\n",
       " '10': 'Music',\n",
       " '15': 'Pets & Animals',\n",
       " '17': 'Sports',\n",
       " '18': 'Short Movies',\n",
       " '19': 'Travel & Events',\n",
       " '20': 'Gaming',\n",
       " '21': 'Videoblogging',\n",
       " '22': 'People & Blogs',\n",
       " '23': 'Comedy',\n",
       " '24': 'Entertainment',\n",
       " '25': 'News & Politics',\n",
       " '26': 'Howto & Style',\n",
       " '27': 'Education',\n",
       " '28': 'Science & Technology',\n",
       " '29': 'Nonprofits & Activism',\n",
       " '30': 'Movies',\n",
       " '31': 'Anime/Animation',\n",
       " '32': 'Action/Adventure',\n",
       " '33': 'Classics',\n",
       " '34': 'Comedy',\n",
       " '35': 'Documentary',\n",
       " '36': 'Drama',\n",
       " '37': 'Family',\n",
       " '38': 'Foreign',\n",
       " '39': 'Horror',\n",
       " '40': 'Sci-Fi/Fantasy',\n",
       " '41': 'Thriller',\n",
       " '42': 'Shorts',\n",
       " '43': 'Shows',\n",
       " '44': 'Trailers'}"
      ]
     },
     "execution_count": 60,
     "metadata": {},
     "output_type": "execute_result"
    }
   ],
   "source": [
    "video_category_map = {}\n",
    "for item in vid_cat_repsonse['items']:\n",
    "    video_category_map[item['id']]=item['snippet']['title']\n",
    "video_category_map    "
   ]
  },
  {
   "cell_type": "markdown",
   "metadata": {},
   "source": [
    "I wonder if youtube music only contains category id 10?"
   ]
  },
  {
   "cell_type": "code",
   "execution_count": 61,
   "metadata": {},
   "outputs": [],
   "source": [
    "# let's test this out by parsing our liked videos first"
   ]
  },
  {
   "cell_type": "markdown",
   "metadata": {},
   "source": [
    "### let's save the df to a csv, then add the videos in the csv to our other youtube channel"
   ]
  },
  {
   "cell_type": "code",
   "execution_count": null,
   "metadata": {},
   "outputs": [],
   "source": []
  }
 ],
 "metadata": {
  "kernelspec": {
   "display_name": "Python 3",
   "language": "python",
   "name": "python3"
  },
  "language_info": {
   "codemirror_mode": {
    "name": "ipython",
    "version": 3
   },
   "file_extension": ".py",
   "mimetype": "text/x-python",
   "name": "python",
   "nbconvert_exporter": "python",
   "pygments_lexer": "ipython3",
   "version": "3.7.1"
  }
 },
 "nbformat": 4,
 "nbformat_minor": 2
}
